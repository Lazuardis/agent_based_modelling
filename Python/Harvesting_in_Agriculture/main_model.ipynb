{
 "cells": [
  {
   "cell_type": "code",
   "execution_count": 14,
   "metadata": {},
   "outputs": [],
   "source": [
    "import mesa\n",
    "from mesa import Agent, Model\n",
    "from mesa.space import MultiGrid\n",
    "from mesa.time import RandomActivation\n",
    "from mesa.datacollection import DataCollector\n",
    "from ExtraChart import HistogramModule\n",
    "import seaborn as sns\n",
    "import numpy as np\n",
    "import pandas as pd\n",
    "import random\n",
    "import math\n",
    "import matplotlib.pyplot as plt\n",
    "from matplotlib.ticker import FuncFormatter\n",
    "import solara\n",
    "from matplotlib.figure import Figure\n"
   ]
  },
  {
   "cell_type": "code",
   "execution_count": 12,
   "metadata": {},
   "outputs": [],
   "source": [
    "def find_best_patch(model):\n",
    "    agents = model.schedule.agents\n",
    "    max_price = -float('inf')\n",
    "    best_patch = None\n",
    "\n",
    "    for agent in agents:\n",
    "        if agent.price_at_mill > max_price:\n",
    "            max_price = agent.price_at_mill\n",
    "            best_patch = agent.pos\n",
    "\n",
    "    return best_patch\n",
    "\n",
    "def average_height(model):\n",
    "    return np.mean([agent.height for agent in model.schedule.agents])\n",
    "\n",
    "class PatchAgent(Agent):\n",
    "    def __init__(self, unique_id, model):\n",
    "        super().__init__(unique_id, model)\n",
    "        self.sugar_content = random.uniform(0, 0.112)\n",
    "        self.height = random.uniform(0, 2)\n",
    "        self.price_at_mill = 0\n",
    "        self.pos = None\n",
    "\n",
    "    def step(self):\n",
    "        if self.model.rain <= self.model.rain_probability:\n",
    "            self.height += 0.00123 * 2\n",
    "            self.sugar_content += 0.0000688 * 2\n",
    "        else:\n",
    "            self.height += 0.00123\n",
    "            self.sugar_content += 0.0000688\n",
    "            self.model.cashflow -= 0.3\n",
    "\n",
    "        self.price_at_mill = self.calculate_price_at_mill()\n",
    "\n",
    "        if (self.model.best_patch == self.pos and \n",
    "            self.height >= self.model.minimum_height_to_harvest and \n",
    "            self.model.current_harvesting_capacity > 0):\n",
    "            self.being_harvested()\n",
    "            self.model.current_harvesting_capacity -= 1\n",
    "\n",
    "    def calculate_price_at_mill(self):\n",
    "        if self.pos is None:\n",
    "            raise ValueError(\"Agent position is not set.\")\n",
    "        x1, y1 = self.pos\n",
    "        x2, y2 = 11, 0\n",
    "        distance = math.sqrt((x2 - x1) ** 2 + (y2 - y1) ** 2)\n",
    "        price_at_mill = 14000 * (self.sugar_content * (1 - (distance * (0.6 / 16.9))))\n",
    "        return round(price_at_mill, 2)\n",
    "\n",
    "    def being_harvested(self):\n",
    "        self.height = 0\n",
    "        self.sugar_content = 0\n",
    "        self.model.number_harvested += 1\n",
    "        self.model.cashflow += self.price_at_mill\n",
    "        self.model.cashflow -= 0.05\n",
    "\n",
    "class FieldModel(Model):\n",
    "    def __init__(self, width, height, minimum_height_to_harvest=2.4, harvesting_capacity_per_step=1, rain_probability=0.3):\n",
    "        super().__init__()\n",
    "        self.width = width\n",
    "        self.height = height\n",
    "        self.grid = MultiGrid(width, height, torus=False)\n",
    "        self.schedule = RandomActivation(self)\n",
    "        self.rain = None\n",
    "        self.best_patch = None\n",
    "        self.harvesting_capacity_per_step = harvesting_capacity_per_step\n",
    "        self.number_harvested = 0\n",
    "        self.cashflow = 1000000\n",
    "        self.minimum_height_to_harvest = minimum_height_to_harvest\n",
    "        self.current_harvesting_capacity = self.harvesting_capacity_per_step\n",
    "        self.rain_probability = rain_probability\n",
    "\n",
    "        agent_id = 0\n",
    "        for x in range(width):\n",
    "            for y in range(height):\n",
    "                if x == (width - 1) and y == 0:\n",
    "                    continue\n",
    "                \n",
    "                a = PatchAgent(agent_id, self)\n",
    "                self.schedule.add(a)\n",
    "                self.grid.place_agent(a, (x, y))\n",
    "                agent_id += 1\n",
    "\n",
    "        self.datacollector = DataCollector(\n",
    "            model_reporters={\"Average Height\": average_height, \"Cashflow\": \"cashflow\", \"Number Harvested\": \"number_harvested\"},\n",
    "            agent_reporters={\"Height\": \"height\"}\n",
    "        )\n",
    "\n",
    "    def step(self):\n",
    "        self.rain = random.uniform(0, 1)\n",
    "        self.best_patch = find_best_patch(self)\n",
    "        self.datacollector.collect(self)\n",
    "        self.schedule.step()\n",
    "        self.current_harvesting_capacity = self.harvesting_capacity_per_step"
   ]
  },
  {
   "cell_type": "code",
   "execution_count": 7,
   "metadata": {},
   "outputs": [],
   "source": [
    "random.seed(100)\n",
    "\n",
    "model = FieldModel(30, 30, minimum_height_to_harvest=2.4, harvesting_capacity_per_step=1, rain_probability = 0.3)\n",
    "# model.step()\n",
    "for i in range(3240):\n",
    "    model.step()"
   ]
  },
  {
   "cell_type": "markdown",
   "metadata": {},
   "source": [
    "### Code Optimization (Optional)"
   ]
  },
  {
   "cell_type": "code",
   "execution_count": 25,
   "metadata": {},
   "outputs": [],
   "source": [
    "import cProfile\n",
    "import pstats"
   ]
  },
  {
   "cell_type": "code",
   "execution_count": 15,
   "metadata": {},
   "outputs": [],
   "source": [
    "def run_model():\n",
    "    model = FieldModel(15, 15, minimum_height_to_harvest=2.4, harvesting_capacity_per_step=1, rain_probability = 0.3)\n",
    "    for i in range(3240):\n",
    "        model.step()"
   ]
  },
  {
   "cell_type": "code",
   "execution_count": 33,
   "metadata": {},
   "outputs": [],
   "source": [
    "cProfile.run('run_model()', 'profile_stats')"
   ]
  },
  {
   "cell_type": "code",
   "execution_count": 34,
   "metadata": {},
   "outputs": [],
   "source": [
    "with open('profile_report.txt', 'w') as f:\n",
    "    p = pstats.Stats('profile_stats', stream=f)\n",
    "    p.sort_stats('cumtime').print_stats(10)\n"
   ]
  },
  {
   "cell_type": "markdown",
   "metadata": {},
   "source": [
    "## Result"
   ]
  },
  {
   "cell_type": "code",
   "execution_count": 8,
   "metadata": {},
   "outputs": [
    {
     "data": {
      "text/plain": [
       "<Axes: xlabel='Height', ylabel='Count'>"
      ]
     },
     "execution_count": 8,
     "metadata": {},
     "output_type": "execute_result"
    },
    {
     "data": {
      "image/png": "[encoded data removed]",
      "text/plain": [
       "<Figure size 640x480 with 1 Axes>"
      ]
     },
     "metadata": {},
     "output_type": "display_data"
    }
   ],
   "source": [
    "agent_height = model.datacollector.get_agent_vars_dataframe().reset_index()\n",
    "agent_data = agent_height[agent_height['Step'] == 3239]\n",
    "\n",
    "sns.histplot(data=agent_data, x='Height')\n"
   ]
  },
  {
   "cell_type": "code",
   "execution_count": 9,
   "metadata": {},
   "outputs": [
    {
     "data": {
      "image/png": "[encoded data removed]",
      "text/plain": [
       "<Figure size 640x480 with 1 Axes>"
      ]
     },
     "metadata": {},
     "output_type": "display_data"
    }
   ],
   "source": [
    "# Retrieve the model reporters' dataframe\n",
    "model_df = model.datacollector.get_model_vars_dataframe().reset_index()\n",
    "\n",
    "\n",
    "# Custom formatter function\n",
    "def millions(x, pos):\n",
    "    return '%1.3f mil' % (x * 1e-6)\n",
    "\n",
    "# Plotting with Seaborn\n",
    "sns.lineplot(data=model_df, y='Cashflow', x='index')\n",
    "\n",
    "# Apply the custom formatter to the y-axis\n",
    "formatter = FuncFormatter(millions)\n",
    "plt.gca().yaxis.set_major_formatter(formatter)\n",
    "\n",
    "# Show the plot\n",
    "plt.show()"
   ]
  },
  {
   "cell_type": "code",
   "execution_count": 10,
   "metadata": {},
   "outputs": [
    {
     "data": {
      "text/plain": [
       "<Axes: >"
      ]
     },
     "execution_count": 10,
     "metadata": {},
     "output_type": "execute_result"
    },
    {
     "data": {
      "image/png": "[encoded data removed]",
      "text/plain": [
       "<Figure size 640x480 with 1 Axes>"
      ]
     },
     "metadata": {},
     "output_type": "display_data"
    }
   ],
   "source": [
    "model_df['Number Harvested'].plot()"
   ]
  },
  {
   "cell_type": "markdown",
   "metadata": {},
   "source": [
    "### Batch Run\n"
   ]
  },
  {
   "cell_type": "code",
   "execution_count": 11,
   "metadata": {},
   "outputs": [
    {
     "data": {
      "application/vnd.jupyter.widget-view+json": {
       "model_id": "d1274ff1189f46a6bb0105172551d5d6",
       "version_major": 2,
       "version_minor": 0
      },
      "text/plain": [
       "  0%|          | 0/120 [00:00<?, ?it/s]"
      ]
     },
     "metadata": {},
     "output_type": "display_data"
    }
   ],
   "source": [
    "params = {\"width\": 15, \"height\": 15, \"minimum_height_to_harvest\": [2.4, 4], \"harvesting_capacity_per_step\": [1, 4]}\n",
    "\n",
    "results = mesa.batch_run(\n",
    "    FieldModel,\n",
    "    parameters=params,\n",
    "    iterations=30,\n",
    "    max_steps=3240,\n",
    "    number_processes=1,\n",
    "    data_collection_period=1,\n",
    "    display_progress=True,\n",
    ")"
   ]
  },
  {
   "cell_type": "code",
   "execution_count": 12,
   "metadata": {},
   "outputs": [
    {
     "name": "stdout",
     "output_type": "stream",
     "text": [
      "Index(['RunId', 'iteration', 'Step', 'width', 'height',\n",
      "       'minimum_height_to_harvest', 'harvesting_capacity_per_step',\n",
      "       'Average Height', 'Cashflow', 'Number Harvested'],\n",
      "      dtype='object')\n"
     ]
    }
   ],
   "source": [
    "results_df = pd.DataFrame(results)\n",
    "print(results_df.keys())"
   ]
  },
  {
   "cell_type": "code",
   "execution_count": 15,
   "metadata": {},
   "outputs": [],
   "source": [
    "results_df.to_csv('results.csv', index=False)"
   ]
  },
  {
   "cell_type": "code",
   "execution_count": 2,
   "metadata": {},
   "outputs": [],
   "source": [
    "results_df = pd.read_csv('results.csv')"
   ]
  },
  {
   "cell_type": "code",
   "execution_count": 3,
   "metadata": {},
   "outputs": [
    {
     "data": {
      "text/html": [
       "<div>\n",
       "<style scoped>\n",
       "    .dataframe tbody tr th:only-of-type {\n",
       "        vertical-align: middle;\n",
       "    }\n",
       "\n",
       "    .dataframe tbody tr th {\n",
       "        vertical-align: top;\n",
       "    }\n",
       "\n",
       "    .dataframe thead th {\n",
       "        text-align: right;\n",
       "    }\n",
       "</style>\n",
       "<table border=\"1\" class=\"dataframe\">\n",
       "  <thead>\n",
       "    <tr style=\"text-align: right;\">\n",
       "      <th></th>\n",
       "      <th>RunId</th>\n",
       "      <th>iteration</th>\n",
       "      <th>Step</th>\n",
       "      <th>width</th>\n",
       "      <th>height</th>\n",
       "      <th>minimum_height_to_harvest</th>\n",
       "      <th>harvesting_capacity_per_step</th>\n",
       "      <th>Average Height</th>\n",
       "      <th>Cashflow</th>\n",
       "      <th>Number Harvested</th>\n",
       "    </tr>\n",
       "  </thead>\n",
       "  <tbody>\n",
       "    <tr>\n",
       "      <th>0</th>\n",
       "      <td>0</td>\n",
       "      <td>0</td>\n",
       "      <td>0</td>\n",
       "      <td>15</td>\n",
       "      <td>15</td>\n",
       "      <td>2.4</td>\n",
       "      <td>1</td>\n",
       "      <td>0.959219</td>\n",
       "      <td>1000000.0</td>\n",
       "      <td>0</td>\n",
       "    </tr>\n",
       "    <tr>\n",
       "      <th>1</th>\n",
       "      <td>0</td>\n",
       "      <td>0</td>\n",
       "      <td>1</td>\n",
       "      <td>15</td>\n",
       "      <td>15</td>\n",
       "      <td>2.4</td>\n",
       "      <td>1</td>\n",
       "      <td>0.960449</td>\n",
       "      <td>999932.8</td>\n",
       "      <td>0</td>\n",
       "    </tr>\n",
       "    <tr>\n",
       "      <th>2</th>\n",
       "      <td>0</td>\n",
       "      <td>0</td>\n",
       "      <td>2</td>\n",
       "      <td>15</td>\n",
       "      <td>15</td>\n",
       "      <td>2.4</td>\n",
       "      <td>1</td>\n",
       "      <td>0.962909</td>\n",
       "      <td>999932.8</td>\n",
       "      <td>0</td>\n",
       "    </tr>\n",
       "    <tr>\n",
       "      <th>3</th>\n",
       "      <td>0</td>\n",
       "      <td>0</td>\n",
       "      <td>3</td>\n",
       "      <td>15</td>\n",
       "      <td>15</td>\n",
       "      <td>2.4</td>\n",
       "      <td>1</td>\n",
       "      <td>0.965369</td>\n",
       "      <td>999932.8</td>\n",
       "      <td>0</td>\n",
       "    </tr>\n",
       "    <tr>\n",
       "      <th>4</th>\n",
       "      <td>0</td>\n",
       "      <td>0</td>\n",
       "      <td>4</td>\n",
       "      <td>15</td>\n",
       "      <td>15</td>\n",
       "      <td>2.4</td>\n",
       "      <td>1</td>\n",
       "      <td>0.966599</td>\n",
       "      <td>999865.6</td>\n",
       "      <td>0</td>\n",
       "    </tr>\n",
       "  </tbody>\n",
       "</table>\n",
       "</div>"
      ],
      "text/plain": [
       "   RunId  iteration  Step  width  height  minimum_height_to_harvest  \\\n",
       "0      0          0     0     15      15                        2.4   \n",
       "1      0          0     1     15      15                        2.4   \n",
       "2      0          0     2     15      15                        2.4   \n",
       "3      0          0     3     15      15                        2.4   \n",
       "4      0          0     4     15      15                        2.4   \n",
       "\n",
       "   harvesting_capacity_per_step  Average Height   Cashflow  Number Harvested  \n",
       "0                             1        0.959219  1000000.0                 0  \n",
       "1                             1        0.960449   999932.8                 0  \n",
       "2                             1        0.962909   999932.8                 0  \n",
       "3                             1        0.965369   999932.8                 0  \n",
       "4                             1        0.966599   999865.6                 0  "
      ]
     },
     "execution_count": 3,
     "metadata": {},
     "output_type": "execute_result"
    }
   ],
   "source": [
    "results_df.head()"
   ]
  },
  {
   "cell_type": "code",
   "execution_count": 4,
   "metadata": {},
   "outputs": [
    {
     "data": {
      "text/html": [
       "<div>\n",
       "<style scoped>\n",
       "    .dataframe tbody tr th:only-of-type {\n",
       "        vertical-align: middle;\n",
       "    }\n",
       "\n",
       "    .dataframe tbody tr th {\n",
       "        vertical-align: top;\n",
       "    }\n",
       "\n",
       "    .dataframe thead th {\n",
       "        text-align: right;\n",
       "    }\n",
       "</style>\n",
       "<table border=\"1\" class=\"dataframe\">\n",
       "  <thead>\n",
       "    <tr style=\"text-align: right;\">\n",
       "      <th></th>\n",
       "      <th>minimum_height_to_harvest</th>\n",
       "      <th>harvesting_capacity_per_step</th>\n",
       "      <th>Cashflow</th>\n",
       "    </tr>\n",
       "  </thead>\n",
       "  <tbody>\n",
       "    <tr>\n",
       "      <th>0</th>\n",
       "      <td>2.4</td>\n",
       "      <td>1</td>\n",
       "      <td>1.138541e+06</td>\n",
       "    </tr>\n",
       "    <tr>\n",
       "      <th>1</th>\n",
       "      <td>2.4</td>\n",
       "      <td>4</td>\n",
       "      <td>1.138927e+06</td>\n",
       "    </tr>\n",
       "    <tr>\n",
       "      <th>2</th>\n",
       "      <td>4.0</td>\n",
       "      <td>1</td>\n",
       "      <td>1.039733e+06</td>\n",
       "    </tr>\n",
       "    <tr>\n",
       "      <th>3</th>\n",
       "      <td>4.0</td>\n",
       "      <td>4</td>\n",
       "      <td>1.037958e+06</td>\n",
       "    </tr>\n",
       "  </tbody>\n",
       "</table>\n",
       "</div>"
      ],
      "text/plain": [
       "   minimum_height_to_harvest  harvesting_capacity_per_step      Cashflow\n",
       "0                        2.4                             1  1.138541e+06\n",
       "1                        2.4                             4  1.138927e+06\n",
       "2                        4.0                             1  1.039733e+06\n",
       "3                        4.0                             4  1.037958e+06"
      ]
     },
     "execution_count": 4,
     "metadata": {},
     "output_type": "execute_result"
    }
   ],
   "source": [
    "results_df.groupby(['minimum_height_to_harvest', 'harvesting_capacity_per_step'])['Cashflow'].mean().reset_index()"
   ]
  },
  {
   "cell_type": "code",
   "execution_count": 11,
   "metadata": {},
   "outputs": [
    {
     "data": {
      "text/plain": [
       "<Axes: xlabel='minimum_height_to_harvest', ylabel='Cashflow'>"
      ]
     },
     "execution_count": 11,
     "metadata": {},
     "output_type": "execute_result"
    },
    {
     "data": {
      "image/png": "[encoded data removed]",
      "text/plain": [
       "<Figure size 500x700 with 1 Axes>"
      ]
     },
     "metadata": {},
     "output_type": "display_data"
    }
   ],
   "source": [
    "plt.figure(figsize=(5,7))\n",
    "sns.boxplot(data=results_df[results_df['Step']==3240], x='minimum_height_to_harvest', y='Cashflow', hue='harvesting_capacity_per_step')"
   ]
  },
  {
   "cell_type": "markdown",
   "metadata": {},
   "source": [
    "## Significance Test"
   ]
  },
  {
   "cell_type": "code",
   "execution_count": 6,
   "metadata": {},
   "outputs": [
    {
     "name": "stderr",
     "output_type": "stream",
     "text": [
      "C:\\Users\\Zak\\AppData\\Local\\Temp\\ipykernel_20212\\4089155526.py:8: SettingWithCopyWarning: \n",
      "A value is trying to be set on a copy of a slice from a DataFrame.\n",
      "Try using .loc[row_indexer,col_indexer] = value instead\n",
      "\n",
      "See the caveats in the documentation: https://pandas.pydata.org/pandas-docs/stable/user_guide/indexing.html#returning-a-view-versus-a-copy\n",
      "  anova_df['minimum_height_to_harvest'] = anova_df['minimum_height_to_harvest'].astype(str)\n",
      "C:\\Users\\Zak\\AppData\\Local\\Temp\\ipykernel_20212\\4089155526.py:9: SettingWithCopyWarning: \n",
      "A value is trying to be set on a copy of a slice from a DataFrame.\n",
      "Try using .loc[row_indexer,col_indexer] = value instead\n",
      "\n",
      "See the caveats in the documentation: https://pandas.pydata.org/pandas-docs/stable/user_guide/indexing.html#returning-a-view-versus-a-copy\n",
      "  anova_df['harvesting_capacity_per_step'] = anova_df['harvesting_capacity_per_step'].astype(str)\n"
     ]
    },
    {
     "data": {
      "text/html": [
       "<div>\n",
       "<style scoped>\n",
       "    .dataframe tbody tr th:only-of-type {\n",
       "        vertical-align: middle;\n",
       "    }\n",
       "\n",
       "    .dataframe tbody tr th {\n",
       "        vertical-align: top;\n",
       "    }\n",
       "\n",
       "    .dataframe thead th {\n",
       "        text-align: right;\n",
       "    }\n",
       "</style>\n",
       "<table border=\"1\" class=\"dataframe\">\n",
       "  <thead>\n",
       "    <tr style=\"text-align: right;\">\n",
       "      <th></th>\n",
       "      <th>sum_sq</th>\n",
       "      <th>df</th>\n",
       "      <th>F</th>\n",
       "      <th>PR(&gt;F)</th>\n",
       "    </tr>\n",
       "  </thead>\n",
       "  <tbody>\n",
       "    <tr>\n",
       "      <th>C(minimum_height_to_harvest)</th>\n",
       "      <td>9.701331e+14</td>\n",
       "      <td>1.0</td>\n",
       "      <td>31041.877373</td>\n",
       "      <td>0.000000</td>\n",
       "    </tr>\n",
       "    <tr>\n",
       "      <th>C(harvesting_capacity_per_step)</th>\n",
       "      <td>4.691260e+10</td>\n",
       "      <td>1.0</td>\n",
       "      <td>1.501088</td>\n",
       "      <td>0.220505</td>\n",
       "    </tr>\n",
       "    <tr>\n",
       "      <th>C(minimum_height_to_harvest):C(harvesting_capacity_per_step)</th>\n",
       "      <td>1.135549e+11</td>\n",
       "      <td>1.0</td>\n",
       "      <td>3.633479</td>\n",
       "      <td>0.056629</td>\n",
       "    </tr>\n",
       "    <tr>\n",
       "      <th>Residual</th>\n",
       "      <td>1.215456e+16</td>\n",
       "      <td>388916.0</td>\n",
       "      <td>NaN</td>\n",
       "      <td>NaN</td>\n",
       "    </tr>\n",
       "  </tbody>\n",
       "</table>\n",
       "</div>"
      ],
      "text/plain": [
       "                                                          sum_sq        df  \\\n",
       "C(minimum_height_to_harvest)                        9.701331e+14       1.0   \n",
       "C(harvesting_capacity_per_step)                     4.691260e+10       1.0   \n",
       "C(minimum_height_to_harvest):C(harvesting_capac...  1.135549e+11       1.0   \n",
       "Residual                                            1.215456e+16  388916.0   \n",
       "\n",
       "                                                               F    PR(>F)  \n",
       "C(minimum_height_to_harvest)                        31041.877373  0.000000  \n",
       "C(harvesting_capacity_per_step)                         1.501088  0.220505  \n",
       "C(minimum_height_to_harvest):C(harvesting_capac...      3.633479  0.056629  \n",
       "Residual                                                     NaN       NaN  "
      ]
     },
     "execution_count": 6,
     "metadata": {},
     "output_type": "execute_result"
    }
   ],
   "source": [
    "import statsmodels.api as sm\n",
    "from statsmodels.formula.api import ols\n",
    "\n",
    "# Assuming `results_df` is your DataFrame\n",
    "anova_df = results_df[['minimum_height_to_harvest', 'harvesting_capacity_per_step', 'Cashflow']]\n",
    "\n",
    "# Convert categorical variables to strings if they are not already\n",
    "anova_df['minimum_height_to_harvest'] = anova_df['minimum_height_to_harvest'].astype(str)\n",
    "anova_df['harvesting_capacity_per_step'] = anova_df['harvesting_capacity_per_step'].astype(str)\n",
    "\n",
    "# Create the formula for ANOVA\n",
    "formula = 'Cashflow ~ C(minimum_height_to_harvest) + C(harvesting_capacity_per_step) + C(minimum_height_to_harvest):C(harvesting_capacity_per_step)'\n",
    "\n",
    "# Perform ANOVA\n",
    "model = ols(formula, data=anova_df).fit()\n",
    "anova_table = sm.stats.anova_lm(model, typ=2)\n",
    "anova_table\n"
   ]
  },
  {
   "cell_type": "code",
   "execution_count": 7,
   "metadata": {},
   "outputs": [
    {
     "name": "stdout",
     "output_type": "stream",
     "text": [
      "       Multiple Comparison of Means - Tukey HSD, FWER=0.05       \n",
      "=================================================================\n",
      "group1 group2   meandiff   p-adj     lower        upper    reject\n",
      "-----------------------------------------------------------------\n",
      " 2.4-1  2.4-4     386.0786 0.9632   -1673.7259   2445.8831  False\n",
      " 2.4-1  4.0-1  -98807.8122    0.0 -100867.6167 -96748.0077   True\n",
      " 2.4-1  4.0-4 -100583.1223    0.0 -102642.9268 -98523.3178   True\n",
      " 2.4-4  4.0-1  -99193.8908    0.0 -101253.6953 -97134.0863   True\n",
      " 2.4-4  4.0-4 -100969.2009    0.0 -103029.0054 -98909.3964   True\n",
      " 4.0-1  4.0-4   -1775.3101 0.1193   -3835.1146    284.4944  False\n",
      "-----------------------------------------------------------------\n"
     ]
    }
   ],
   "source": [
    "from statsmodels.stats.multicomp import pairwise_tukeyhsd\n",
    "\n",
    "# Perform Tukey's HSD test\n",
    "tukey = pairwise_tukeyhsd(endog=anova_df['Cashflow'], \n",
    "                          groups=anova_df['minimum_height_to_harvest'] + '-' + anova_df['harvesting_capacity_per_step'],\n",
    "                          alpha=0.05)\n",
    "print(tukey.summary())\n"
   ]
  },
  {
   "cell_type": "markdown",
   "metadata": {},
   "source": [
    "## Working on the rain probability"
   ]
  },
  {
   "cell_type": "code",
   "execution_count": 24,
   "metadata": {},
   "outputs": [
    {
     "data": {
      "application/vnd.jupyter.widget-view+json": {
       "model_id": "a233203729b54787af80024ed04f4afa",
       "version_major": 2,
       "version_minor": 0
      },
      "text/plain": [
       "  0%|          | 0/90 [00:00<?, ?it/s]"
      ]
     },
     "metadata": {},
     "output_type": "display_data"
    }
   ],
   "source": [
    "params = {\"width\": 15, \"height\": 15, \"minimum_height_to_harvest\": 4, \"harvesting_capacity_per_step\": 1, \"rain_probability\": [0.1, 0.3, 0.5]}\n",
    "\n",
    "results = mesa.batch_run(\n",
    "    FieldModel,\n",
    "    parameters=params,\n",
    "    iterations=30,\n",
    "    max_steps=3240,\n",
    "    number_processes=1,\n",
    "    data_collection_period=1,\n",
    "    display_progress=True,\n",
    ")"
   ]
  },
  {
   "cell_type": "code",
   "execution_count": null,
   "metadata": {},
   "outputs": [
    {
     "name": "stdout",
     "output_type": "stream",
     "text": [
      "Index(['RunId', 'iteration', 'Step', 'width', 'height',\n",
      "       'minimum_height_to_harvest', 'harvesting_capacity_per_step',\n",
      "       'rain_probability', 'Average Height', 'Cashflow', 'Number Harvested'],\n",
      "      dtype='object')\n"
     ]
    },
    {
     "name": "stdout",
     "output_type": "stream",
     "text": [
      "Index(['RunId', 'iteration', 'Step', 'width', 'height',\n",
      "       'minimum_height_to_harvest', 'harvesting_capacity_per_step',\n",
      "       'rain_probability', 'Average Height', 'Cashflow', 'Number Harvested'],\n",
      "      dtype='object')\n"
     ]
    }
   ],
   "source": [
    "results_df = pd.DataFrame(results)\n",
    "print(results_df.keys())"
   ]
  },
  {
   "cell_type": "code",
   "execution_count": 30,
   "metadata": {},
   "outputs": [],
   "source": [
    "results_df.to_csv('results_2.csv', index=False)"
   ]
  },
  {
   "cell_type": "code",
   "execution_count": 31,
   "metadata": {},
   "outputs": [
    {
     "data": {
      "text/html": [
       "<div>\n",
       "<style scoped>\n",
       "    .dataframe tbody tr th:only-of-type {\n",
       "        vertical-align: middle;\n",
       "    }\n",
       "\n",
       "    .dataframe tbody tr th {\n",
       "        vertical-align: top;\n",
       "    }\n",
       "\n",
       "    .dataframe thead th {\n",
       "        text-align: right;\n",
       "    }\n",
       "</style>\n",
       "<table border=\"1\" class=\"dataframe\">\n",
       "  <thead>\n",
       "    <tr style=\"text-align: right;\">\n",
       "      <th></th>\n",
       "      <th>rain_probability</th>\n",
       "      <th>Cashflow</th>\n",
       "    </tr>\n",
       "  </thead>\n",
       "  <tbody>\n",
       "    <tr>\n",
       "      <th>0</th>\n",
       "      <td>0.1</td>\n",
       "      <td>9.368264e+05</td>\n",
       "    </tr>\n",
       "    <tr>\n",
       "      <th>1</th>\n",
       "      <td>0.3</td>\n",
       "      <td>1.042539e+06</td>\n",
       "    </tr>\n",
       "    <tr>\n",
       "      <th>2</th>\n",
       "      <td>0.5</td>\n",
       "      <td>1.122378e+06</td>\n",
       "    </tr>\n",
       "  </tbody>\n",
       "</table>\n",
       "</div>"
      ],
      "text/plain": [
       "   rain_probability      Cashflow\n",
       "0               0.1  9.368264e+05\n",
       "1               0.3  1.042539e+06\n",
       "2               0.5  1.122378e+06"
      ]
     },
     "execution_count": 31,
     "metadata": {},
     "output_type": "execute_result"
    }
   ],
   "source": [
    "results_df.groupby(['rain_probability'])['Cashflow'].mean().reset_index()"
   ]
  },
  {
   "cell_type": "code",
   "execution_count": 32,
   "metadata": {},
   "outputs": [
    {
     "data": {
      "text/plain": [
       "<Axes: xlabel='rain_probability', ylabel='Cashflow'>"
      ]
     },
     "execution_count": 32,
     "metadata": {},
     "output_type": "execute_result"
    },
    {
     "data": {
      "image/png": "[encoded data removed]",
      "text/plain": [
       "<Figure size 500x700 with 1 Axes>"
      ]
     },
     "metadata": {},
     "output_type": "display_data"
    }
   ],
   "source": [
    "plt.figure(figsize=(5,7))\n",
    "sns.boxplot(data=results_df[results_df['Step']==3240], x='rain_probability', y='Cashflow')"
   ]
  },
  {
   "cell_type": "markdown",
   "metadata": {},
   "source": [
    "## Visualization"
   ]
  },
  {
   "cell_type": "code",
   "execution_count": 3,
   "metadata": {},
   "outputs": [],
   "source": [
    "from mesa.experimental import JupyterViz"
   ]
  },
  {
   "cell_type": "code",
   "execution_count": 6,
   "metadata": {},
   "outputs": [],
   "source": [
    "def agent_portrayal(agent):\n",
    "    heights = [1, 2, 3, 4, 5]\n",
    "    sizes = [5, 10, 20, 35, 50, 70]\n",
    "    color = \"tab:green\"\n",
    "\n",
    "    size = sizes[-1]  # Default to the largest size\n",
    "    for i, height in enumerate(heights):\n",
    "        if agent.height <= height:\n",
    "            size = sizes[i]\n",
    "            break\n",
    "\n",
    "    return {\"size\": size, \"color\": color}"
   ]
  },
  {
   "cell_type": "code",
   "execution_count": 10,
   "metadata": {},
   "outputs": [],
   "source": [
    "model_params = { \n",
    "    \"width\": 12,\n",
    "    \"height\": 12, \n",
    "    \"minimum_height_to_harvest\": 2.4, \n",
    "    \"harvesting_capacity_per_step\": 1, \n",
    "    \"rain_probability\": 0.3\n",
    "}"
   ]
  },
  {
   "cell_type": "code",
   "execution_count": 17,
   "metadata": {},
   "outputs": [],
   "source": [
    "def make_histogram(model):\n",
    "    # Note: you must initialize a figure using this method instead of\n",
    "    # plt.figure(), for thread safety purpose\n",
    "    fig = Figure()\n",
    "    ax = fig.subplots()\n",
    "    height_vals = [agent.height for agent in model.schedule.agents]\n",
    "    # Convert wealth_vals to a numpy array for compatibility with seaborn\n",
    "    height_vals = np.array(height_vals)\n",
    "    # Note: you have to use Matplotlib's OOP API with seaborn\n",
    "    sns.histplot(height_vals, bins=10, ax=ax, discrete=False)\n",
    "    solara.FigureMatplotlib(fig)"
   ]
  },
  {
   "cell_type": "code",
   "execution_count": 18,
   "metadata": {},
   "outputs": [
    {
     "data": {
      "application/vnd.jupyter.widget-view+json": {
       "model_id": "0aab5e49e3484c16913359b51e2a55db",
       "version_major": 2,
       "version_minor": 0
      },
      "text/html": [
       "Cannot show widget. You probably want to rerun the code cell above (<i>Click in the code cell, and press Shift+Enter <kbd>⇧</kbd>+<kbd>↩</kbd></i>)."
      ],
      "text/plain": [
       "Cannot show ipywidgets in text"
      ]
     },
     "metadata": {},
     "output_type": "display_data"
    },
    {
     "name": "stdout",
     "output_type": "stream",
     "text": [
      "Socket opened!\n",
      "{\"type\":\"reset\"}\n"
     ]
    }
   ],
   "source": [
    "page = JupyterViz(\n",
    "    FieldModel,\n",
    "    model_params,\n",
    "    measures=[\"Average Height\", make_histogram],\n",
    "    name=\"Field Model\",\n",
    "    agent_portrayal=agent_portrayal,\n",
    ")\n",
    "# This is required to render the visualization in the Jupyter notebook\n",
    "page"
   ]
  },
  {
   "cell_type": "code",
   "execution_count": 4,
   "metadata": {},
   "outputs": [
    {
     "name": "stdout",
     "output_type": "stream",
     "text": [
      "Interface starting at http://127.0.0.1:8521\n"
     ]
    },
    {
     "ename": "RuntimeError",
     "evalue": "This event loop is already running",
     "output_type": "error",
     "traceback": [
      "\u001b[1;31m---------------------------------------------------------------------------\u001b[0m",
      "\u001b[1;31mRuntimeError\u001b[0m                              Traceback (most recent call last)",
      "Cell \u001b[1;32mIn[4], line 44\u001b[0m\n\u001b[0;32m     36\u001b[0m server \u001b[38;5;241m=\u001b[39m mesa\u001b[38;5;241m.\u001b[39mvisualization\u001b[38;5;241m.\u001b[39mModularServer(FieldModel,\n\u001b[0;32m     37\u001b[0m                        [grid, \n\u001b[0;32m     38\u001b[0m                         \u001b[38;5;66;03m# chart,\u001b[39;00m\n\u001b[1;32m   (...)\u001b[0m\n\u001b[0;32m     41\u001b[0m                        \u001b[38;5;124m\"\u001b[39m\u001b[38;5;124mField Model\u001b[39m\u001b[38;5;124m\"\u001b[39m,\n\u001b[0;32m     42\u001b[0m                        {\u001b[38;5;124m\"\u001b[39m\u001b[38;5;124mwidth\u001b[39m\u001b[38;5;124m\"\u001b[39m:\u001b[38;5;241m12\u001b[39m, \u001b[38;5;124m\"\u001b[39m\u001b[38;5;124mheight\u001b[39m\u001b[38;5;124m\"\u001b[39m:\u001b[38;5;241m12\u001b[39m})\n\u001b[0;32m     43\u001b[0m server\u001b[38;5;241m.\u001b[39mport \u001b[38;5;241m=\u001b[39m \u001b[38;5;241m8521\u001b[39m \u001b[38;5;66;03m# The default\u001b[39;00m\n\u001b[1;32m---> 44\u001b[0m \u001b[43mserver\u001b[49m\u001b[38;5;241;43m.\u001b[39;49m\u001b[43mlaunch\u001b[49m\u001b[43m(\u001b[49m\u001b[43m)\u001b[49m\n",
      "File \u001b[1;32mc:\\Users\\Zak\\anaconda3\\lib\\site-packages\\mesa_viz_tornado\\ModularVisualization.py:407\u001b[0m, in \u001b[0;36mModularServer.launch\u001b[1;34m(self, port, open_browser)\u001b[0m\n\u001b[0;32m    405\u001b[0m tornado\u001b[38;5;241m.\u001b[39mautoreload\u001b[38;5;241m.\u001b[39mstart()\n\u001b[0;32m    406\u001b[0m \u001b[38;5;28;01mtry\u001b[39;00m:\n\u001b[1;32m--> 407\u001b[0m     \u001b[43mtornado\u001b[49m\u001b[38;5;241;43m.\u001b[39;49m\u001b[43mioloop\u001b[49m\u001b[38;5;241;43m.\u001b[39;49m\u001b[43mIOLoop\u001b[49m\u001b[38;5;241;43m.\u001b[39;49m\u001b[43mcurrent\u001b[49m\u001b[43m(\u001b[49m\u001b[43m)\u001b[49m\u001b[38;5;241;43m.\u001b[39;49m\u001b[43mstart\u001b[49m\u001b[43m(\u001b[49m\u001b[43m)\u001b[49m\n\u001b[0;32m    408\u001b[0m \u001b[38;5;28;01mexcept\u001b[39;00m \u001b[38;5;167;01mKeyboardInterrupt\u001b[39;00m:\n\u001b[0;32m    409\u001b[0m     tornado\u001b[38;5;241m.\u001b[39mioloop\u001b[38;5;241m.\u001b[39mIOLoop\u001b[38;5;241m.\u001b[39mcurrent()\u001b[38;5;241m.\u001b[39mstop()\n",
      "File \u001b[1;32mc:\\Users\\Zak\\anaconda3\\lib\\site-packages\\tornado\\platform\\asyncio.py:199\u001b[0m, in \u001b[0;36mBaseAsyncIOLoop.start\u001b[1;34m(self)\u001b[0m\n\u001b[0;32m    197\u001b[0m     \u001b[38;5;28mself\u001b[39m\u001b[38;5;241m.\u001b[39m_setup_logging()\n\u001b[0;32m    198\u001b[0m     asyncio\u001b[38;5;241m.\u001b[39mset_event_loop(\u001b[38;5;28mself\u001b[39m\u001b[38;5;241m.\u001b[39masyncio_loop)\n\u001b[1;32m--> 199\u001b[0m     \u001b[38;5;28;43mself\u001b[39;49m\u001b[38;5;241;43m.\u001b[39;49m\u001b[43masyncio_loop\u001b[49m\u001b[38;5;241;43m.\u001b[39;49m\u001b[43mrun_forever\u001b[49m\u001b[43m(\u001b[49m\u001b[43m)\u001b[49m\n\u001b[0;32m    200\u001b[0m \u001b[38;5;28;01mfinally\u001b[39;00m:\n\u001b[0;32m    201\u001b[0m     asyncio\u001b[38;5;241m.\u001b[39mset_event_loop(old_loop)\n",
      "File \u001b[1;32mc:\\Users\\Zak\\anaconda3\\lib\\asyncio\\base_events.py:592\u001b[0m, in \u001b[0;36mBaseEventLoop.run_forever\u001b[1;34m(self)\u001b[0m\n\u001b[0;32m    590\u001b[0m \u001b[38;5;250m\u001b[39m\u001b[38;5;124;03m\"\"\"Run until stop() is called.\"\"\"\u001b[39;00m\n\u001b[0;32m    591\u001b[0m \u001b[38;5;28mself\u001b[39m\u001b[38;5;241m.\u001b[39m_check_closed()\n\u001b[1;32m--> 592\u001b[0m \u001b[38;5;28;43mself\u001b[39;49m\u001b[38;5;241;43m.\u001b[39;49m\u001b[43m_check_running\u001b[49m\u001b[43m(\u001b[49m\u001b[43m)\u001b[49m\n\u001b[0;32m    593\u001b[0m \u001b[38;5;28mself\u001b[39m\u001b[38;5;241m.\u001b[39m_set_coroutine_origin_tracking(\u001b[38;5;28mself\u001b[39m\u001b[38;5;241m.\u001b[39m_debug)\n\u001b[0;32m    595\u001b[0m old_agen_hooks \u001b[38;5;241m=\u001b[39m sys\u001b[38;5;241m.\u001b[39mget_asyncgen_hooks()\n",
      "File \u001b[1;32mc:\\Users\\Zak\\anaconda3\\lib\\asyncio\\base_events.py:584\u001b[0m, in \u001b[0;36mBaseEventLoop._check_running\u001b[1;34m(self)\u001b[0m\n\u001b[0;32m    582\u001b[0m \u001b[38;5;28;01mdef\u001b[39;00m \u001b[38;5;21m_check_running\u001b[39m(\u001b[38;5;28mself\u001b[39m):\n\u001b[0;32m    583\u001b[0m     \u001b[38;5;28;01mif\u001b[39;00m \u001b[38;5;28mself\u001b[39m\u001b[38;5;241m.\u001b[39mis_running():\n\u001b[1;32m--> 584\u001b[0m         \u001b[38;5;28;01mraise\u001b[39;00m \u001b[38;5;167;01mRuntimeError\u001b[39;00m(\u001b[38;5;124m'\u001b[39m\u001b[38;5;124mThis event loop is already running\u001b[39m\u001b[38;5;124m'\u001b[39m)\n\u001b[0;32m    585\u001b[0m     \u001b[38;5;28;01mif\u001b[39;00m events\u001b[38;5;241m.\u001b[39m_get_running_loop() \u001b[38;5;129;01mis\u001b[39;00m \u001b[38;5;129;01mnot\u001b[39;00m \u001b[38;5;28;01mNone\u001b[39;00m:\n\u001b[0;32m    586\u001b[0m         \u001b[38;5;28;01mraise\u001b[39;00m \u001b[38;5;167;01mRuntimeError\u001b[39;00m(\n\u001b[0;32m    587\u001b[0m             \u001b[38;5;124m'\u001b[39m\u001b[38;5;124mCannot run the event loop while another loop is running\u001b[39m\u001b[38;5;124m'\u001b[39m)\n",
      "\u001b[1;31mRuntimeError\u001b[0m: This event loop is already running"
     ]
    },
    {
     "name": "stdout",
     "output_type": "stream",
     "text": [
      "Socket opened!\n",
      "{\"type\":\"reset\"}\n",
      "{\"type\":\"get_step\",\"step\":1}\n",
      "{\"type\":\"get_step\",\"step\":2}\n",
      "{\"type\":\"get_step\",\"step\":3}\n",
      "{\"type\":\"get_step\",\"step\":4}\n",
      "{\"type\":\"get_step\",\"step\":5}\n",
      "{\"type\":\"get_step\",\"step\":6}\n",
      "{\"type\":\"get_step\",\"step\":7}\n",
      "{\"type\":\"get_step\",\"step\":8}\n",
      "{\"type\":\"get_step\",\"step\":9}\n",
      "{\"type\":\"get_step\",\"step\":10}\n",
      "{\"type\":\"get_step\",\"step\":11}\n",
      "{\"type\":\"get_step\",\"step\":12}\n",
      "{\"type\":\"get_step\",\"step\":13}\n",
      "{\"type\":\"get_step\",\"step\":14}\n",
      "{\"type\":\"get_step\",\"step\":15}\n",
      "{\"type\":\"get_step\",\"step\":16}\n",
      "{\"type\":\"get_step\",\"step\":17}\n",
      "{\"type\":\"get_step\",\"step\":18}\n",
      "{\"type\":\"get_step\",\"step\":19}\n",
      "{\"type\":\"get_step\",\"step\":20}\n",
      "{\"type\":\"get_step\",\"step\":21}\n",
      "{\"type\":\"get_step\",\"step\":22}\n",
      "{\"type\":\"get_step\",\"step\":23}\n",
      "{\"type\":\"get_step\",\"step\":24}\n",
      "{\"type\":\"get_step\",\"step\":25}\n",
      "{\"type\":\"get_step\",\"step\":26}\n",
      "{\"type\":\"get_step\",\"step\":27}\n",
      "{\"type\":\"get_step\",\"step\":28}\n",
      "{\"type\":\"get_step\",\"step\":29}\n",
      "{\"type\":\"get_step\",\"step\":30}\n",
      "{\"type\":\"get_step\",\"step\":31}\n",
      "{\"type\":\"get_step\",\"step\":32}\n",
      "{\"type\":\"get_step\",\"step\":33}\n",
      "{\"type\":\"get_step\",\"step\":34}\n",
      "{\"type\":\"get_step\",\"step\":35}\n",
      "{\"type\":\"get_step\",\"step\":36}\n",
      "{\"type\":\"get_step\",\"step\":37}\n",
      "{\"type\":\"get_step\",\"step\":38}\n",
      "{\"type\":\"get_step\",\"step\":39}\n",
      "{\"type\":\"get_step\",\"step\":40}\n",
      "{\"type\":\"get_step\",\"step\":41}\n",
      "{\"type\":\"get_step\",\"step\":42}\n",
      "{\"type\":\"get_step\",\"step\":43}\n",
      "{\"type\":\"get_step\",\"step\":44}\n",
      "{\"type\":\"get_step\",\"step\":45}\n",
      "{\"type\":\"get_step\",\"step\":46}\n",
      "{\"type\":\"get_step\",\"step\":47}\n",
      "{\"type\":\"get_step\",\"step\":48}\n",
      "{\"type\":\"get_step\",\"step\":49}\n",
      "{\"type\":\"get_step\",\"step\":50}\n",
      "{\"type\":\"get_step\",\"step\":51}\n",
      "{\"type\":\"get_step\",\"step\":52}\n",
      "{\"type\":\"get_step\",\"step\":53}\n",
      "{\"type\":\"get_step\",\"step\":54}\n",
      "{\"type\":\"get_step\",\"step\":55}\n",
      "{\"type\":\"get_step\",\"step\":56}\n",
      "{\"type\":\"get_step\",\"step\":57}\n",
      "{\"type\":\"get_step\",\"step\":58}\n",
      "{\"type\":\"get_step\",\"step\":59}\n",
      "{\"type\":\"get_step\",\"step\":60}\n",
      "{\"type\":\"get_step\",\"step\":61}\n",
      "{\"type\":\"get_step\",\"step\":62}\n",
      "{\"type\":\"get_step\",\"step\":63}\n",
      "{\"type\":\"get_step\",\"step\":64}\n",
      "{\"type\":\"get_step\",\"step\":65}\n",
      "{\"type\":\"get_step\",\"step\":66}\n",
      "{\"type\":\"get_step\",\"step\":67}\n",
      "{\"type\":\"get_step\",\"step\":68}\n",
      "{\"type\":\"get_step\",\"step\":69}\n",
      "{\"type\":\"get_step\",\"step\":70}\n",
      "{\"type\":\"get_step\",\"step\":71}\n",
      "{\"type\":\"get_step\",\"step\":72}\n",
      "{\"type\":\"get_step\",\"step\":73}\n",
      "{\"type\":\"get_step\",\"step\":74}\n",
      "{\"type\":\"get_step\",\"step\":75}\n",
      "{\"type\":\"get_step\",\"step\":76}\n",
      "{\"type\":\"get_step\",\"step\":77}\n",
      "{\"type\":\"get_step\",\"step\":78}\n",
      "{\"type\":\"get_step\",\"step\":79}\n",
      "{\"type\":\"get_step\",\"step\":80}\n",
      "{\"type\":\"get_step\",\"step\":81}\n",
      "{\"type\":\"get_step\",\"step\":82}\n",
      "{\"type\":\"get_step\",\"step\":83}\n",
      "{\"type\":\"get_step\",\"step\":84}\n",
      "{\"type\":\"get_step\",\"step\":85}\n",
      "{\"type\":\"get_step\",\"step\":86}\n",
      "{\"type\":\"get_step\",\"step\":87}\n",
      "{\"type\":\"get_step\",\"step\":88}\n",
      "{\"type\":\"get_step\",\"step\":89}\n",
      "{\"type\":\"get_step\",\"step\":90}\n",
      "{\"type\":\"get_step\",\"step\":91}\n",
      "{\"type\":\"get_step\",\"step\":92}\n",
      "{\"type\":\"get_step\",\"step\":93}\n",
      "{\"type\":\"get_step\",\"step\":94}\n",
      "{\"type\":\"get_step\",\"step\":95}\n",
      "{\"type\":\"get_step\",\"step\":96}\n",
      "{\"type\":\"get_step\",\"step\":97}\n",
      "{\"type\":\"get_step\",\"step\":98}\n",
      "{\"type\":\"get_step\",\"step\":99}\n"
     ]
    }
   ],
   "source": [
    "\n",
    "\n",
    "def rgb_to_hex(rgb):\n",
    "    return '#%02x%02x%02x' % rgb\n",
    "\n",
    "def agent_portrayal(agent):\n",
    "    portrayal = {\"Shape\": \"rect\", \"Filled\": \"true\", \"w\": 0.5, \"h\": 0.5}\n",
    "\n",
    "    heights = [1, 2, 3, 4, 5]\n",
    "    sizes = [0.2, 0.4, 0.6, 0.8, 1, 1.2]\n",
    "    colors = [\n",
    "        rgb_to_hex((0, 0, 0)),        # black\n",
    "        rgb_to_hex((0, 64, 0)),       # very dark green\n",
    "        rgb_to_hex((0, 128, 0)),      # dark green\n",
    "        rgb_to_hex((0, 192, 0)),      # medium green\n",
    "        rgb_to_hex((0, 255, 0)),      # normal green\n",
    "        rgb_to_hex((0, 255, 0))       # normal green for any height above 5\n",
    "    ]\n",
    "\n",
    "    for i, height in enumerate(heights):\n",
    "        if agent.height <= height:\n",
    "            portrayal[\"w\"] = sizes[i]\n",
    "            portrayal[\"h\"] = sizes[i]\n",
    "            portrayal[\"Color\"] = colors[i]\n",
    "            portrayal[\"Layer\"] = 0\n",
    "            break\n",
    "\n",
    "    return portrayal\n",
    "\n",
    "grid = mesa.visualization.CanvasGrid(agent_portrayal, 12, 12, 500, 500)\n",
    "\n",
    "chart = mesa.visualization.ChartModule(\n",
    "    [{\"Label\": \"Cashflow\", \"Color\": \"Black\"}], data_collector_name=\"datacollector\"\n",
    ")\n",
    "\n",
    "histogram = HistogramModule(list(range(10)), 200, 500, attribute=\"height\")\n",
    "\n",
    "server = mesa.visualization.ModularServer(FieldModel,\n",
    "                       [grid, \n",
    "                        # chart,\n",
    "                        histogram\n",
    "                        ],\n",
    "                       \"Field Model\",\n",
    "                       {\"width\":12, \"height\":12})\n",
    "server.port = 8521 # The default\n",
    "server.launch()\n"
   ]
  }
 ],
 "metadata": {
  "kernelspec": {
   "display_name": "base",
   "language": "python",
   "name": "python3"
  },
  "language_info": {
   "codemirror_mode": {
    "name": "ipython",
    "version": 3
   },
   "file_extension": ".py",
   "mimetype": "text/x-python",
   "name": "python",
   "nbconvert_exporter": "python",
   "pygments_lexer": "ipython3",
   "version": "3.10.9"
  }
 },
 "nbformat": 4,
 "nbformat_minor": 2
}
